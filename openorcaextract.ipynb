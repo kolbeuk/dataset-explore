{
 "cells": [
  {
   "cell_type": "code",
   "execution_count": 6,
   "id": "5921de0e",
   "metadata": {},
   "outputs": [],
   "source": [
    "import json\n",
    "import random"
   ]
  },
  {
   "cell_type": "code",
   "execution_count": 21,
   "id": "f476170d",
   "metadata": {},
   "outputs": [],
   "source": [
    "repository = 'Open-orca'\n",
    "filename = 'Slimorca-50.json'\n",
    "output = 'Slimorca-50.json'\n",
    "file_path = repository + '/' + filename\n",
    "output_path = repository + '/' + output"
   ]
  },
  {
   "cell_type": "code",
   "execution_count": 17,
   "id": "fd41831e",
   "metadata": {},
   "outputs": [],
   "source": [
    "# Function to pretty-print JSON data\n",
    "def print_basic_json_structure(data):\n",
    "    pretty_json = json.dumps(data, indent=4)\n",
    "    print(pretty_json)"
   ]
  },
  {
   "cell_type": "code",
   "execution_count": 22,
   "id": "16ddbef6",
   "metadata": {},
   "outputs": [],
   "source": [
    "# Read the JSON data from the file\n",
    "with open(file_path, 'r') as file:\n",
    "    data = file.readlines()"
   ]
  },
  {
   "cell_type": "code",
   "execution_count": 23,
   "id": "429d9ef3",
   "metadata": {},
   "outputs": [
    {
     "name": "stdout",
     "output_type": "stream",
     "text": [
      "258991\n"
     ]
    }
   ],
   "source": [
    "number_of_lines = len(data)\n",
    "print(number_of_lines)"
   ]
  },
  {
   "cell_type": "code",
   "execution_count": 20,
   "id": "bded8c01",
   "metadata": {},
   "outputs": [],
   "source": [
    "# Open the JSONL file for reading\n",
    "with open(file_path, 'r') as jsonl_file:\n",
    "    # Read all lines from the JSONL file\n",
    "    lines = jsonl_file.readlines()\n",
    "        \n",
    "# Ensure that there are at least 10 lines in the file\n",
    "if len(lines) < 258991:\n",
    "    print(\"There are not enough lines in the file to sample 10.\")\n",
    "else:\n",
    "    # Randomly sample and print 10 JSON structures\n",
    "    sampled_lines = random.sample(lines, 258991)\n",
    "    # Write the sampled lines to a new file\n",
    "    with open(output_path, 'w') as outfile:\n",
    "        for line in sampled_lines:\n",
    "            outfile.write(line)\n"
   ]
  },
  {
   "cell_type": "code",
   "execution_count": 12,
   "id": "72c4348e",
   "metadata": {},
   "outputs": [
    {
     "ename": "NameError",
     "evalue": "name 'selected_data' is not defined",
     "output_type": "error",
     "traceback": [
      "\u001b[0;31m---------------------------------------------------------------------------\u001b[0m",
      "\u001b[0;31mNameError\u001b[0m                                 Traceback (most recent call last)",
      "Cell \u001b[0;32mIn[12], line 3\u001b[0m\n\u001b[1;32m      1\u001b[0m \u001b[38;5;66;03m# Write the selected data to the output file\u001b[39;00m\n\u001b[1;32m      2\u001b[0m \u001b[38;5;28;01mwith\u001b[39;00m \u001b[38;5;28mopen\u001b[39m(output_path, \u001b[38;5;124m'\u001b[39m\u001b[38;5;124mw\u001b[39m\u001b[38;5;124m'\u001b[39m) \u001b[38;5;28;01mas\u001b[39;00m outfile:\n\u001b[0;32m----> 3\u001b[0m     \u001b[38;5;28;01mfor\u001b[39;00m item \u001b[38;5;129;01min\u001b[39;00m \u001b[43mselected_data\u001b[49m:\n\u001b[1;32m      4\u001b[0m         json\u001b[38;5;241m.\u001b[39mdump(item, outfile)\n\u001b[1;32m      5\u001b[0m         outfile\u001b[38;5;241m.\u001b[39mwrite(\u001b[38;5;124m'\u001b[39m\u001b[38;5;130;01m\\n\u001b[39;00m\u001b[38;5;124m'\u001b[39m)  \u001b[38;5;66;03m# Write each item on a new line\u001b[39;00m\n",
      "\u001b[0;31mNameError\u001b[0m: name 'selected_data' is not defined"
     ]
    }
   ],
   "source": [
    "# Write the selected data to the output file\n",
    "with open(output_path, 'w') as outfile:\n",
    "    for item in selected_data:\n",
    "        json.dump(item, outfile)\n",
    "        outfile.write('\\n')  # Write each item on a new line"
   ]
  }
 ],
 "metadata": {
  "kernelspec": {
   "display_name": "Python 3 (ipykernel)",
   "language": "python",
   "name": "python3"
  },
  "language_info": {
   "codemirror_mode": {
    "name": "ipython",
    "version": 3
   },
   "file_extension": ".py",
   "mimetype": "text/x-python",
   "name": "python",
   "nbconvert_exporter": "python",
   "pygments_lexer": "ipython3",
   "version": "3.11.6"
  }
 },
 "nbformat": 4,
 "nbformat_minor": 5
}
