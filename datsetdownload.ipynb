{
 "cells": [
  {
   "cell_type": "code",
   "execution_count": 10,
   "id": "5921de0e",
   "metadata": {},
   "outputs": [],
   "source": [
    "from datasets import load_dataset\n",
    "import json\n",
    "import random\n",
    "import csv\n",
    "import os"
   ]
  },
  {
   "cell_type": "code",
   "execution_count": 2,
   "id": "f476170d",
   "metadata": {},
   "outputs": [],
   "source": [
    "repository = 'Open-orca'\n",
    "filename = 'Slimorca'\n",
    "file_path = repository + '/' + filename\n",
    "dataset = load_dataset(file_path)"
   ]
  },
  {
   "cell_type": "code",
   "execution_count": 3,
   "id": "16ddbef6",
   "metadata": {},
   "outputs": [
    {
     "name": "stdout",
     "output_type": "stream",
     "text": [
      "DatasetDict({\n",
      "    train: Dataset({\n",
      "        features: ['conversations'],\n",
      "        num_rows: 517982\n",
      "    })\n",
      "})\n",
      "{'conversations': [{'from': 'system', 'value': 'You are an AI assistant. You will be given a task. You must generate a detailed and long answer.', 'weight': None}, {'from': 'human', 'value': 'Write an article based on this \"A man has been charged with murder and attempted murder after a woman and the man she was on a date with were stabbed at a restaurant in Sydney, Australia.\"', 'weight': 0.0}, {'from': 'gpt', 'value': \"Title: Tragedy Strikes in Sydney: Victims Stabbed during Dinner Date, Suspect Charged with Murder and Attempted Murder\\n\\nIntroduction\\n\\nA seemingly ordinary evening took a tragic turn in Sydney, Australia when a romantic dinner date at a local restaurant ended in bloodshed, as a man allegedly attacked a couple, stabbing both victims. Local authorities have charged the suspect with murder and attempted murder in connection with the horrific crime. In this article, we delve into the chilling incident, the suspect, and the impact it has had on the community.\\n\\nThe Incident\\n\\nThe alarming event took place at a popular restaurant in Sydney, Australia. A woman and her date were enjoying their meal – blissfully unaware of the tragic circumstances that would soon unfold. As they shared conversation and indulged in their dinner, a man approached the couple and, without warning, began to stab them with a sharp object.\\n\\nPatrons at the restaurant scrambled for safety, as the assailant continued his violent rampage. Bystanders quickly called emergency services, who promptly arrived at the scene. Although both victims were rushed to a nearby hospital, the woman succumbed to her injuries. The man she was on a date with remained in critical condition, fighting for his life.\\n\\nThe Suspect\\n\\nInitial investigations revealed that the alleged attacker had no known connections to the victims – adding to the mystifying nature of this sudden and brutal assault. Witnesses reported that the assailant seemed to have no specific motive and appeared to carry out the act senselessly.\\n\\nFollowing a thorough investigation, local police identified and arrested the suspect. During the process, it was discovered that the alleged attacker had a history of criminal behavior and a troubled past, though it is unclear if this played a role in the tragic incident.\\n\\nAuthorities have formally charged the man with murder and attempted murder in connection with the heinous crime. He awaits a hearing to determine a trial date and, if convicted, could face a life sentence in prison.\\n\\nThe Community's Response\\n\\nThe shocking nature of the crime has left the residents of Sydney reeling, as they struggle to come to terms with the harrowing event. The restaurant where the attack occurred has since been closed, with a makeshift memorial being created outside to commemorate the victims.\\n\\nMany have questioned how such a vicious crime could happen in what is considered to be one of the safest cities in the world. This tragic event has spurred local officials to reassess current security measures and devise strategies to reinforce public safety. Additionally, discussions surrounding mental health and criminal rehabilitation have surfaced as residents seek to comprehend the actions of the alleged perpetrator and prevent similar incidents from occurring in the future.\\n\\nIn the wake of the stabbing, the community has banded together with an outpouring of grief and support for the victims and their families. Candlelight vigils have been held, and an online fundraising campaign is underway to assist the surviving victim with his medical expenses and recovery.\\n\\nConclusion\\n\\nThe tragic attack in Sydney serves as a chilling reminder that senseless acts of violence can happen anywhere and at any time. The community's response to this horrific and seemingly random act of brutality has been one of solidarity and determination to prevent such incidents in the future. As the case unfolds, the victims and their families remain in the hearts of the community, who are grieving the devastating loss of a life cut tragically short and supporting the recovering victim as he continues to endure this unimaginable ordeal.\", 'weight': 1.0}]}\n"
     ]
    }
   ],
   "source": [
    "print(dataset)\n",
    "print(dataset['train'][0])  # Access the first entry in the training set\n"
   ]
  },
  {
   "cell_type": "code",
   "execution_count": 4,
   "id": "4ea5217c",
   "metadata": {},
   "outputs": [
    {
     "name": "stdout",
     "output_type": "stream",
     "text": [
      "Directory 'Open-orca' already exists.\n"
     ]
    }
   ],
   "source": [
    "# Check if the directory already exists\n",
    "if not os.path.exists(repository):\n",
    "    # Create the directory if it doesn't exist\n",
    "    os.makedirs(repository)\n",
    "    print(f\"Directory '{repository}' created successfully.\")\n",
    "else:\n",
    "    print(f\"Directory '{repository}' already exists.\")\n",
    "    \n",
    "    # Choose a file path\n",
    "jsonl_path = file_path + '.jsonl'"
   ]
  },
  {
   "cell_type": "code",
   "execution_count": 5,
   "id": "55f91784",
   "metadata": {},
   "outputs": [
    {
     "name": "stdout",
     "output_type": "stream",
     "text": [
      "Dataset saved in JSONL format.\n"
     ]
    }
   ],
   "source": [
    "# Save the dataset in JSONL format\n",
    "with open(jsonl_path , 'w') as file:\n",
    "    # Iterate through the dataset\n",
    "    for item in dataset['train']:  # Assuming you want to save the 'train' split\n",
    "        # Convert each record to JSON string\n",
    "        json_line = json.dumps(item)\n",
    "        # Write to the file with a newline character\n",
    "        file.write(json_line + '\\n')\n",
    "\n",
    "print(\"Dataset saved in JSONL format.\")"
   ]
  },
  {
   "cell_type": "code",
   "execution_count": 6,
   "id": "54bc6764",
   "metadata": {},
   "outputs": [],
   "source": [
    "# Function to print JSON structure\n",
    "def print_json_structure(json_data):\n",
    "    for conversation in json_data[\"conversations\"]:\n",
    "        from_value = conversation[\"from\"]\n",
    "        value = conversation[\"value\"]\n",
    "        weight = str(conversation[\"weight\"]) if conversation[\"weight\"] is not None else \"None\"\n",
    "\n",
    "        print(f\"From: {from_value}\")\n",
    "        print(f\"Value: {value}\")\n",
    "        print(f\"Weight: {weight}\\n\")"
   ]
  },
  {
   "cell_type": "code",
   "execution_count": 1,
   "id": "912d36cf",
   "metadata": {},
   "outputs": [
    {
     "ename": "NameError",
     "evalue": "name 'file_path' is not defined",
     "output_type": "error",
     "traceback": [
      "\u001b[0;31m---------------------------------------------------------------------------\u001b[0m",
      "\u001b[0;31mNameError\u001b[0m                                 Traceback (most recent call last)",
      "Cell \u001b[0;32mIn[1], line 2\u001b[0m\n\u001b[1;32m      1\u001b[0m \u001b[38;5;66;03m# Load the JSON data from the file\u001b[39;00m\n\u001b[0;32m----> 2\u001b[0m \u001b[38;5;28;01mwith\u001b[39;00m \u001b[38;5;28mopen\u001b[39m(\u001b[43mfile_path\u001b[49m, \u001b[38;5;124m\"\u001b[39m\u001b[38;5;124mr\u001b[39m\u001b[38;5;124m\"\u001b[39m) \u001b[38;5;28;01mas\u001b[39;00m file:\n\u001b[1;32m      3\u001b[0m     sample_json \u001b[38;5;241m=\u001b[39m json\u001b[38;5;241m.\u001b[39mload(file)\n\u001b[1;32m      5\u001b[0m \u001b[38;5;66;03m# Use the existing function to print the JSON structure\u001b[39;00m\n",
      "\u001b[0;31mNameError\u001b[0m: name 'file_path' is not defined"
     ]
    }
   ],
   "source": [
    "# Load the JSON data from the file\n",
    "with open(jsonl_path, \"r\") as file:\n",
    "    sample_json = json.load(file)\n",
    "\n",
    "# Use the existing function to print the JSON structure\n",
    "print_json_structure(sample_json)"
   ]
  },
  {
   "cell_type": "code",
   "execution_count": 11,
   "id": "deb28072",
   "metadata": {},
   "outputs": [
    {
     "name": "stdout",
     "output_type": "stream",
     "text": [
      "Sample 1 - JSON Structure:\n",
      "{\n",
      "    \"conversations\": [\n",
      "        {\n",
      "            \"from\": \"system\",\n",
      "            \"value\": \"You are an AI assistant, who knows every language and how to translate one language to another. Given a task, you explain in simple steps what the task is asking, any guidelines that it provides. You solve the task and show how you used the guidelines to solve the task.\",\n",
      "            \"weight\": null\n",
      "        },\n",
      "        {\n",
      "            \"from\": \"human\",\n",
      "            \"value\": \"Given the task definition and input, reply with output. Given a command in a limited form of natural language, provide the correct sequence of actions that executes the command to thus navigate an agent in its environment. A command can be broken down into many different actions. Actions are uppercase and are individual steps that serve as the building blocks for a command. For commands, 'left' and 'right' are used to denote the direction of an action. The word 'opposite' turns the agent backward in the specified direction. The word 'around' makes the agent execute an action while turning around in the specified direction. The word 'and' means to execute the next scope of the command following the previous scope of the command. The word 'after' signifies to execute the previous scope of the command following the next scope of the command. The words 'twice' and 'thrice' trigger repetition of a command that they scope over two times or three times, respectively. There are only six actions: 'I_LOOK', 'I_WALK', 'I_RUN', 'I_JUMP', 'I_TURN_LEFT', and 'I_TURN_RIGHT'. These actions respectively align with the commands 'look', 'walk', 'run', 'jump', 'turn left', and 'turn right'. Actions and commands do not have quotations in the input and output.\\n\\nwalk opposite left thrice after turn around right\",\n",
      "            \"weight\": 0.0\n",
      "        },\n",
      "        {\n",
      "            \"from\": \"gpt\",\n",
      "            \"value\": \"Task: The task is to convert the given command in limited natural language into the correct sequence of actions for an agent.\\n\\nCommand: walk opposite left thrice after turn around right\\n\\nBreakdown of the command:\\n1. \\\"walk opposite left thrice\\\" means the agent needs to walk backward to the left direction three times. The action sequence is: I_TURN_LEFT, I_WALK (three times)\\n2. \\\"turn around right\\\" means the agent needs to turn around in the right direction. The action sequence is: I_TURN_RIGHT, I_TURN_RIGHT\\n3. \\\"after\\\" means we need to execute the second part of the command first and then the first part.\\n\\nPutting it all together:\\n1. Execute \\\"turn around right\\\": I_TURN_RIGHT, I_TURN_RIGHT\\n2. Execute \\\"walk opposite left thrice\\\": I_TURN_LEFT, I_WALK, I_WALK, I_WALK\\n\\nOutput: I_TURN_RIGHT, I_TURN_RIGHT, I_TURN_LEFT, I_WALK, I_WALK, I_WALK\",\n",
      "            \"weight\": 1.0\n",
      "        }\n",
      "    ]\n",
      "}\n",
      "Sample 2 - JSON Structure:\n",
      "{\n",
      "    \"conversations\": [\n",
      "        {\n",
      "            \"from\": \"system\",\n",
      "            \"value\": \"You are an AI assistant that follows instruction extremely well. Help as much as you can.\",\n",
      "            \"weight\": null\n",
      "        },\n",
      "        {\n",
      "            \"from\": \"human\",\n",
      "            \"value\": \"Read the bio below and try to give details on mehdi asgarkhani 's:    - clubs     - position     - nationalcaps     - years     - height     - nationalyears     - nationalgoals       - managerialteam     - birth date     - fullname     - name     - managerialyears     - nationalteam     - birth place     Bio: mehdi asgarkani is an iranian football goalkeeper who joined the iranian national team in the 1976 asian cup . he also played for persepolis and aboomoslem .\\nThe answer to this question is:\",\n",
      "            \"weight\": 0.0\n",
      "        },\n",
      "        {\n",
      "            \"from\": \"gpt\",\n",
      "            \"value\": \"- Clubs: Persepolis and Aboomoslem\\n- Position: Football goalkeeper\\n- National caps: Information not available in the bio\\n- Years: Information not available in the bio\\n- Height: Information not available in the bio\\n- National years: Joined the Iranian national team in 1976 (Asian Cup)\\n- National goals: Information not available in the bio (as a goalkeeper, goals are generally not applicable)\\n- Managerial team: Information not available in the bio\\n- Birth date: Information not available in the bio\\n- Full name: Mehdi Asgarkhani\\n- Name: Mehdi Asgarkhani\\n- Managerial years: Information not available in the bio\\n- National team: Iranian national team\\n- Birth place: Information not available in the bio\",\n",
      "            \"weight\": 1.0\n",
      "        }\n",
      "    ]\n",
      "}\n",
      "Sample 3 - JSON Structure:\n",
      "{\n",
      "    \"conversations\": [\n",
      "        {\n",
      "            \"from\": \"system\",\n",
      "            \"value\": \"You are an AI assistant that helps people find information. User will you give you a question. Your task is to answer as faithfully as you can. While answering think step-by-step and justify your answer.\",\n",
      "            \"weight\": null\n",
      "        },\n",
      "        {\n",
      "            \"from\": \"human\",\n",
      "            \"value\": \"Test for natural language inference.\\nPremise: \\\"A young girl shines shoes while sitting on a bench.\\\"\\nHypothesis: \\\"A girl is stealing the shoes from people on the bench.\\\"\\nIs the hypothesis entailed by the premise?\\nOptions:\\n- yes\\n- no\\n- it is not possible to tell\\nLet's solve step-by-step:\",\n",
      "            \"weight\": 0.0\n",
      "        },\n",
      "        {\n",
      "            \"from\": \"gpt\",\n",
      "            \"value\": \"Step 1: Identify the key elements in the premise and hypothesis.\\nPremise: \\\"A young girl shines shoes while sitting on a bench.\\\"\\nKey elements: young girl, shines shoes, sitting on a bench\\n\\nHypothesis: \\\"A girl is stealing the shoes from people on the bench.\\\"\\nKey elements: girl, stealing shoes, people on the bench\\n\\nStep 2: Compare the key elements between the premise and hypothesis.\\n- Both involve a girl.\\n- The premise states the girl is shining shoes, while the hypothesis states she is stealing shoes.\\n- Both mention a bench, but the premise mentions the girl sitting on it, while the hypothesis mentions people on it.\\n\\nStep 3: Determine if the hypothesis is entailed by the premise.\\n- The girl's actions in the premise (shining shoes) do not entail the action in the hypothesis (stealing shoes).\\n- The premise does not mention other people on the bench, unlike the hypothesis.\\n\\nAnswer: No, the hypothesis is not entailed by the premise.\",\n",
      "            \"weight\": 1.0\n",
      "        }\n",
      "    ]\n",
      "}\n",
      "Sample 4 - JSON Structure:\n",
      "{\n",
      "    \"conversations\": [\n",
      "        {\n",
      "            \"from\": \"system\",\n",
      "            \"value\": \"You are a helpful assistant, who always provide explanation. Think like you are answering to a five year old.\",\n",
      "            \"weight\": null\n",
      "        },\n",
      "        {\n",
      "            \"from\": \"human\",\n",
      "            \"value\": \"Write the last sentence in this story.\\n\\n(CNN) -- Before the start of Libya's civil war, you could count the number of newspapers in the country on one hand and all were heavily controlled by the government. Now there are 120 independent newspapers in the city of Benghazi alone, according to local journalists. These newspapers are mostly run and staffed by engineers, doctors and students, said International Media Support, one of several foreign organizations that is helping train journalists in Libya. One, called \\\"Sowt\\\" -- \\\"Voice\\\" in Arabic -- was launched by five medical, engineering and economics students in their early 20s in February. It began as an eight-page magazine, now increased to 12 pages and selling 3,000 copies a week across eastern Libya and beyond.\\n\\nThe content of \\\"\",\n",
      "            \"weight\": 0.0\n",
      "        },\n",
      "        {\n",
      "            \"from\": \"gpt\",\n",
      "            \"value\": \"Sowt\\\" is created by regular people like doctors and students, and now many people in Libya enjoy reading this newspaper.\\\"\",\n",
      "            \"weight\": 1.0\n",
      "        }\n",
      "    ]\n",
      "}\n",
      "Sample 5 - JSON Structure:\n",
      "{\n",
      "    \"conversations\": [\n",
      "        {\n",
      "            \"from\": \"system\",\n",
      "            \"value\": \"You are an AI assistant. You will be given a task. You must generate a detailed and long answer.\",\n",
      "            \"weight\": null\n",
      "        },\n",
      "        {\n",
      "            \"from\": \"human\",\n",
      "            \"value\": \"Write a question about the following article: Russia joined the European Holy League  in 1686.:14 During the war, the Russian army organized the Crimean campaigns of 1687 and 1689 and the Azov campaigns . The Russian involvement marked the beginning of the Russo-Turkish Wars. In the light of Russia's preparations for the war with Sweden and other countries' signing the Treaty of Karlowitz with Turkey in 1699, the Russian government signed the Treaty of Constantinople with the Ottoman Empire in 1700.\\n\\nQuestion about the article:\",\n",
      "            \"weight\": 0.0\n",
      "        },\n",
      "        {\n",
      "            \"from\": \"gpt\",\n",
      "            \"value\": \"What factors led to Russia's involvement in the European Holy League in 1686, and how did the Russian army's organization of Crimean and Azov campaigns contribute to the beginning of the Russo-Turkish Wars, ultimately resulting in Russia's signing of the Treaty of Constantinople with the Ottoman Empire in 1700 amidst preparations for war with Sweden and other countries' signing of the Treaty of Karlowitz with Turkey in 1699?\",\n",
      "            \"weight\": 1.0\n",
      "        }\n",
      "    ]\n",
      "}\n",
      "Sample 6 - JSON Structure:\n",
      "{\n",
      "    \"conversations\": [\n",
      "        {\n",
      "            \"from\": \"system\",\n",
      "            \"value\": \"You are an AI assistant that helps people find information. User will you give you a question. Your task is to answer as faithfully as you can. While answering think step-by-step and justify your answer.\",\n",
      "            \"weight\": null\n",
      "        },\n",
      "        {\n",
      "            \"from\": \"human\",\n",
      "            \"value\": \"Reconstruct a question, answer pair from this explanation: Two bicyclists are not necessarily a man and a woman. Riding their bikes doesn't imply train for a road race.\\n\",\n",
      "            \"weight\": 0.0\n",
      "        },\n",
      "        {\n",
      "            \"from\": \"gpt\",\n",
      "            \"value\": \"Question: Does seeing two bicyclists riding their bikes together mean they are a man and a woman training for a road race?\\n\\nAnswer: No, two bicyclists riding together does not necessarily imply that they are a man and a woman. Additionally, just because they are riding their bikes does not mean they are training for a road race. They could be riding for leisure, exercise, or other reasons.\",\n",
      "            \"weight\": 1.0\n",
      "        }\n",
      "    ]\n",
      "}\n",
      "Sample 7 - JSON Structure:\n",
      "{\n",
      "    \"conversations\": [\n",
      "        {\n",
      "            \"from\": \"system\",\n",
      "            \"value\": \"You are an AI assistant that helps people find information. User will you give you a question. Your task is to answer as faithfully as you can. While answering think step-by-step and justify your answer.\",\n",
      "            \"weight\": null\n",
      "        },\n",
      "        {\n",
      "            \"from\": \"human\",\n",
      "            \"value\": \"Problem:Veni, vidi, vici (Classical Latin: ( \\u02c8we\\u02d0ni\\u02d0 \\u02c8wi\\u02d0di\\u02d0 \\u02c8wi\\u02d0ki\\u02d0); Ecclesiastical Latin: (\\u02c8v\\u025bni \\u02c8vidi \\u02c8vit\\u0283i); \\\"I came; I saw; I conquered\\\" ) is a Latin phrase popularly attributed to Julius Caesar who, according to Appian, used the phrase in a letter to the Roman Senate around 47 BC after he had achieved a quick victory in his short war against Pharnaces II of Pontus at the Battle of Zela. The phrase is used to refer to a swift, conclusive victory.\\n\\nI cam i saw i conquered in latin?\\nSolution:OK... To answer the question, consider the following: Veni, vidi, vici (Classical Latin: ( \\u02c8we\\u02d0ni\\u02d0 \\u02c8wi\\u02d0di\\u02d0 \\u02c8wi\\u02d0ki\\u02d0); Ecclesiastical Latin: (\\u02c8v\\u025bni \\u02c8vidi \\u02c8vit\\u0283i); \\\"I came; I saw; I conquered\\\" ) is a Latin phrase popularly attributed to Julius Caesar who, according to Appian, used the phrase in a letter to the Roman Senate around 47 BC after he had achieved a quick victory in his short war against Pharnaces II of Pontus at the Battle of Zela.\\nVeni , vidi , vici.\\n\\nStudent A:A continent is one of several very large landmasses of the world. Generally identified by convention rather than any strict criteria, up to seven regions are commonly regarded as continents. Ordered from largest in size to smallest, they are: Asia, Africa, North America, South America, Antarctica, Europe, and Australia.\\n\\nAnswer this question based on the passage: what are the names of the seven continents of the world?\\nStudent B:OK... The important part for answering this question is: Ordered from largest in size to smallest, they are: Asia, Africa, North America, South America, Antarctica, Europe, and Australia.\\nAsia , Africa , North America , South America , Antarctica , Europe , and Australia.\\n\\nProblem:The United States Department of Justice (DOJ), also known as the Justice Department, is a federal executive department of the U.S. government, responsible for the enforcement of the law and administration of justice in the United States, equivalent to the justice or interior ministries of other countries. The department was formed in 1870 during the Ulysses S. Grant administration.\\n\\nBased on this passage, what branch of the government is the justice department in?\\nSolution:OK... To answer this question, we should know that: The United States Department of Justice (DOJ), also known as the Justice Department, is a federal executive department of the U.S. government, responsible for the enforcement of the law and administration of justice in the United States, equivalent to the justice or interior ministries of other countries.\\na federal executive department of the U.S. government.\\n\\nStudent A:During the 1995 -- 96 season, Alan Shearer became the first player to score 100 Premier League goals, and holds the record for the fewest games taken to reach 100, doing so in 124 appearances. He also holds the record for most goals scored in the Premier League. After Shearer, Sergio Ag\\u00fcero is the second-fastest to 100 goals, doing so in 147 games.\\n\\nAnswer this question based on the passage: who has scored the most premier league goals?\\nStudent B:OK... To answer the above question, the relevant sentence is: He also holds the record for most goals scored in the Premier League.\\nAlan Shearer.\\n\\nProblem:Context: Productivity describes various measures of the efficiency of production. A productivity measure is expressed as the ratio of output to inputs used in a production process, i.e. output per unit of input. Productivity is a crucial factor in production performance of firms and nations. Increasing national productivity can raise living standards because more real income improves people's ability to purchase goods and services, enjoy leisure, improve housing and education and contribute to social and environmental programs. Productivity growth also helps businesses to be more profitable. There are many different definitions of productivity and the choice among them depends on the purpose of the productivity measurement and / or data availability.\\n\\nQuestion: by what term do we call the level of output generated by a given volume of inputs?\\nSolution:OK... The relevant information to answer the above question is: A productivity measure is expressed as the ratio of output to inputs used in a production process, i.e. output per unit of input.\\nA productivity measure.\\n\\nProblem:About 90 % of the world's earthquakes and 81 % of the world's largest earthquakes occur along the Ring of Fire. All but three of the world's 25 largest volcanic eruptions of the last 11,700 years occurred at volcanoes in the Ring of Fire. The Ring of Fire is a direct result of plate tectonics: the movement and collisions of lithospheric plates, especially subduction in the northern portion. The southern portion is more complex, with a number of smaller tectonic plates in collision with the Pacific plate from the Mariana Islands, the Philippines, Bougainville, Tonga, and New Zealand.\\n\\nHawaii is in the center of the ring of fire and is caused by?\\nSolution:\",\n",
      "            \"weight\": 0.0\n",
      "        },\n",
      "        {\n",
      "            \"from\": \"gpt\",\n",
      "            \"value\": \"OK... To answer this question, we should note that Hawaii is not mentioned in the passage. However, we can provide some context about the Ring of Fire. The Ring of Fire is a direct result of plate tectonics: the movement and collisions of lithospheric plates, especially subduction in the northern portion.\\n\\nAs for Hawaii, it is not located on the Ring of Fire. Instead, it is formed by volcanic activity from a hotspot in the Earth's mantle, which is different from the plate tectonics that cause the Ring of Fire.\",\n",
      "            \"weight\": 1.0\n",
      "        }\n",
      "    ]\n",
      "}\n",
      "Sample 8 - JSON Structure:\n",
      "{\n",
      "    \"conversations\": [\n",
      "        {\n",
      "            \"from\": \"system\",\n",
      "            \"value\": \"You are an AI assistant. You will be given a task. You must generate a detailed and long answer.\",\n",
      "            \"weight\": null\n",
      "        },\n",
      "        {\n",
      "            \"from\": \"human\",\n",
      "            \"value\": \"Read the text and determine if the sentence is true (see options at the end):\\n\\nGermany<br>The man went to Germany. He didn't want to look like a tourist. He went to a traditional clothing shop. He put on an outfit he bought. He still looked like a tourist.\\n\\nSentence: A man went to Germany and in an attempt to not look like a tourist he bought a traditional German outfit to trick locals into thinking he was a woman.\\nChoices: (A). Yes (B). It's impossible to say (C). No\",\n",
      "            \"weight\": 0.0\n",
      "        },\n",
      "        {\n",
      "            \"from\": \"gpt\",\n",
      "            \"value\": \"(C). No\\n\\nThe sentence \\\"A man went to Germany and in an attempt to not look like a tourist he bought a traditional German outfit to trick locals into thinking he was a woman\\\" is not true based on the given text. The text states that the man wanted to not look like a tourist, and he went to a traditional clothing shop to buy and wear an outfit. However, there is no mention of the man's intention to trick locals into thinking he was a woman.\",\n",
      "            \"weight\": 1.0\n",
      "        }\n",
      "    ]\n",
      "}\n",
      "Sample 9 - JSON Structure:\n",
      "{\n",
      "    \"conversations\": [\n",
      "        {\n",
      "            \"from\": \"system\",\n",
      "            \"value\": \"You are an AI assistant that follows instruction extremely well. Help as much as you can.\",\n",
      "            \"weight\": null\n",
      "        },\n",
      "        {\n",
      "            \"from\": \"human\",\n",
      "            \"value\": \"Given the question: I am a movie director and I just received the following movie plot. Could you help me answer this question? If not, let me know by writing \\\"Not answerable\\\".  Plot title: The 6th Day Movie plot: Adam Gibson (Arnold Schwarzenegger) wakes on his birthday with his lovely wife. Adam's daughter informs him she wants a Simdoll, a lifelike, life-sized doll that acts almost human. The parents notice that the elderly family dog is not well, and express concern about it dying and how sad their daughter would be. It can be replaced by Repet, an animal cloning service, but Adam doesn't trust clones. Cloning knowledge is held by the multinational corporation Replacement Technologies. Human cloning is technically possible, but illegal. Adam thinks his daughter should just learn to accept death as a part of life, rather than being cushioned from it.Arriving at his helicopter piloting business, he and his partner Hank Morgan (Michael Rapaport) learn they are to transport Replacement Technologies CEO Michael Drucker (Tony Goldwyn). Oddly, the CEO's staff requires the pilots to sign several forms, as well as a small blood test and an eye screening, before the flight can be undertaken. Bemused, the pilots submit to the tests. Adam's wife calls with the news that the dog was so ill it had to be put down, and begs him to get a Repet for their daughter. Adam will not commit to it.Drucker has specifically asked for Adam to fly him due to his reputation, but ambitious Hank begs to be the big man this one time. Adam agrees, introduces Hank to Drucker as Adam Gibson, and Hank flies Drucker. Unfortunately, their landing atop a snowy mountain is met by a group of fundamentalists who believe that cloning is immoral and Drucker must die. The party is wiped out.Adam awakens confused in a taxicab that he does not remember entering. He assumes he fell asleep, and directs the cab to the Repet center so he can find out about cloning the dog. After hearing the sales pitch, he becomes convinced and is about to order the dog when the salesman shocks him by saying he remembered Adam coming into the shop earlier. Adam is disoriented and decides to get the Simdoll for his daughter instead.He returns home and is about to open his front door... My question: WHAT DOES WEIS GIVE ADAM ?\\nThe answer is:\",\n",
      "            \"weight\": 0.0\n",
      "        },\n",
      "        {\n",
      "            \"from\": \"gpt\",\n",
      "            \"value\": \"Not answerable.\",\n",
      "            \"weight\": 1.0\n",
      "        }\n",
      "    ]\n",
      "}\n",
      "Sample 10 - JSON Structure:\n",
      "{\n",
      "    \"conversations\": [\n",
      "        {\n",
      "            \"from\": \"system\",\n",
      "            \"value\": \"You are an AI assistant that helps people find information. User will you give you a question. Your task is to answer as faithfully as you can. While answering think step-by-step and justify your answer.\",\n",
      "            \"weight\": null\n",
      "        },\n",
      "        {\n",
      "            \"from\": \"human\",\n",
      "            \"value\": \"Can we conclude from \\\"A man with a large beard and a woman wearing a white necklace smile.\\\" that \\\"The people are smiling.\\\"?\\nOptions:\\n- yes\\n- no\\n- it is not possible to tell Now, let's be accurate as possible. Some thinking first:\",\n",
      "            \"weight\": 0.0\n",
      "        },\n",
      "        {\n",
      "            \"from\": \"gpt\",\n",
      "            \"value\": \"To answer this question accurately, let's break down the information given in the sentence:\\n\\n\\\"A man with a large beard and a woman wearing a white necklace smile.\\\"\\n\\nHere, we have two people described:\\n1. A man with a large beard\\n2. A woman wearing a white necklace\\n\\nThe sentence also mentions that both of them \\\"smile.\\\"\\n\\nBased on this information, we can conclude that:\\n\\nOption: yes\\n\\n\\\"The people are smiling.\\\"\\n\\nThe sentence clearly states that both the man and the woman are smiling, which allows us to accurately conclude that the people are indeed smiling.\",\n",
      "            \"weight\": 1.0\n",
      "        }\n",
      "    ]\n",
      "}\n"
     ]
    }
   ],
   "source": [
    "# Open the JSONL file for reading\n",
    "with open(jsonl_path, 'r') as jsonl_file:\n",
    "    # Read all lines from the JSONL file\n",
    "    lines = jsonl_file.readlines()\n",
    "\n",
    "    # Ensure that there are at least 10 lines in the file\n",
    "    if len(lines) < 10:\n",
    "        print(\"There are not enough lines in the file to sample 10.\")\n",
    "    else:\n",
    "        # Randomly sample and print 10 JSON structures\n",
    "        sampled_lines = random.sample(lines, 10)\n",
    "        for i, line in enumerate(sampled_lines):\n",
    "            json_data = json.loads(line)\n",
    "            print(f\"Sample {i + 1} - JSON Structure:\")\n",
    "            print_json_structure(json_data)"
   ]
  },
  {
   "cell_type": "code",
   "execution_count": 9,
   "id": "979e73e4",
   "metadata": {},
   "outputs": [],
   "source": [
    "# Define the list of features\n",
    "features = ['instruction', 'context', 'response', 'category']\n",
    "\n",
    "jsonl_data = []\n",
    "\n",
    "# Replace 'your_data.jsonl' with the actual JSONL file path\n",
    "with open(file_path, 'r') as jsonl_file:\n",
    "    for line in jsonl_file:\n",
    "        data = json.loads(line)\n",
    "        jsonl_data.append(data)"
   ]
  },
  {
   "cell_type": "code",
   "execution_count": 11,
   "id": "5e33d336",
   "metadata": {},
   "outputs": [],
   "source": [
    "# Extract data based on the specified features\n",
    "extracted_data = []\n",
    "for record in jsonl_data:\n",
    "    extracted_data.append([record[feature] for feature in features])\n"
   ]
  },
  {
   "cell_type": "code",
   "execution_count": 13,
   "id": "9bf3bd88",
   "metadata": {},
   "outputs": [
    {
     "name": "stdout",
     "output_type": "stream",
     "text": [
      "CSV file 'databricks-dolly-15k.csv' has been created.\n"
     ]
    }
   ],
   "source": [
    "# Write the data to CSV\n",
    "with open(csv_filename, 'w', newline='') as csv_file:\n",
    "    csv_writer = csv.writer(csv_file)\n",
    "    # Write headers based on the features\n",
    "    csv_writer.writerow(features)\n",
    "    # Write the extracted data\n",
    "    csv_writer.writerows(extracted_data)\n",
    "\n",
    "print(f\"CSV file '{csv_filename}' has been created.\")"
   ]
  }
 ],
 "metadata": {
  "kernelspec": {
   "display_name": "Python 3 (ipykernel)",
   "language": "python",
   "name": "python3"
  },
  "language_info": {
   "codemirror_mode": {
    "name": "ipython",
    "version": 3
   },
   "file_extension": ".py",
   "mimetype": "text/x-python",
   "name": "python",
   "nbconvert_exporter": "python",
   "pygments_lexer": "ipython3",
   "version": "3.11.6"
  }
 },
 "nbformat": 4,
 "nbformat_minor": 5
}
